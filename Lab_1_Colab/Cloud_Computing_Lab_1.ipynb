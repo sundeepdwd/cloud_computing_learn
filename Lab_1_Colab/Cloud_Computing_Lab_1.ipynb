{
  "nbformat": 4,
  "nbformat_minor": 0,
  "metadata": {
    "colab": {
      "provenance": []
    },
    "kernelspec": {
      "name": "python3",
      "display_name": "Python 3"
    },
    "language_info": {
      "name": "python"
    }
  },
  "cells": [
    {
      "cell_type": "markdown",
      "source": [
        "# Lab1 : Familiarization with web services and different protocols involved in web services.\n",
        "Lab Objectives:\n",
        "- Understand the major web service protocols.\n",
        "- Interact with a SOAP service\n",
        "- Perform comprehensive REST operations (GET, POST, PUT, DELETE).\n",
        "- Execute a GraphQL query to fetch precisely the data you need.\n",
        "- Understand the purpose and structure of gRPC for high-performance communication.\n"
      ],
      "metadata": {
        "id": "7ozB9J1zIef7"
      }
    },
    {
      "cell_type": "code",
      "execution_count": 1,
      "metadata": {
        "colab": {
          "base_uri": "https://localhost:8080/",
          "height": 0
        },
        "id": "lCC4HpCjG-dD",
        "outputId": "22c512ff-721b-4bf1-b163-f965c8e34bd4"
      },
      "outputs": [
        {
          "output_type": "stream",
          "name": "stdout",
          "text": [
            "Collecting zeep\n",
            "  Downloading zeep-4.3.1-py3-none-any.whl.metadata (4.3 kB)\n",
            "Requirement already satisfied: requests in /usr/local/lib/python3.11/dist-packages (2.32.3)\n",
            "Requirement already satisfied: Flask in /usr/local/lib/python3.11/dist-packages (3.1.1)\n",
            "Collecting pyngrok\n",
            "  Downloading pyngrok-7.2.11-py3-none-any.whl.metadata (9.4 kB)\n",
            "Requirement already satisfied: attrs>=17.2.0 in /usr/local/lib/python3.11/dist-packages (from zeep) (25.3.0)\n",
            "Collecting isodate>=0.5.4 (from zeep)\n",
            "  Downloading isodate-0.7.2-py3-none-any.whl.metadata (11 kB)\n",
            "Requirement already satisfied: lxml>=4.6.0 in /usr/local/lib/python3.11/dist-packages (from zeep) (5.4.0)\n",
            "Requirement already satisfied: platformdirs>=1.4.0 in /usr/local/lib/python3.11/dist-packages (from zeep) (4.3.8)\n",
            "Requirement already satisfied: requests-toolbelt>=0.7.1 in /usr/local/lib/python3.11/dist-packages (from zeep) (1.0.0)\n",
            "Collecting requests-file>=1.5.1 (from zeep)\n",
            "  Downloading requests_file-2.1.0-py2.py3-none-any.whl.metadata (1.7 kB)\n",
            "Requirement already satisfied: pytz in /usr/local/lib/python3.11/dist-packages (from zeep) (2025.2)\n",
            "Requirement already satisfied: charset-normalizer<4,>=2 in /usr/local/lib/python3.11/dist-packages (from requests) (3.4.2)\n",
            "Requirement already satisfied: idna<4,>=2.5 in /usr/local/lib/python3.11/dist-packages (from requests) (3.10)\n",
            "Requirement already satisfied: urllib3<3,>=1.21.1 in /usr/local/lib/python3.11/dist-packages (from requests) (2.4.0)\n",
            "Requirement already satisfied: certifi>=2017.4.17 in /usr/local/lib/python3.11/dist-packages (from requests) (2025.6.15)\n",
            "Requirement already satisfied: blinker>=1.9.0 in /usr/local/lib/python3.11/dist-packages (from Flask) (1.9.0)\n",
            "Requirement already satisfied: click>=8.1.3 in /usr/local/lib/python3.11/dist-packages (from Flask) (8.2.1)\n",
            "Requirement already satisfied: itsdangerous>=2.2.0 in /usr/local/lib/python3.11/dist-packages (from Flask) (2.2.0)\n",
            "Requirement already satisfied: jinja2>=3.1.2 in /usr/local/lib/python3.11/dist-packages (from Flask) (3.1.6)\n",
            "Requirement already satisfied: markupsafe>=2.1.1 in /usr/local/lib/python3.11/dist-packages (from Flask) (3.0.2)\n",
            "Requirement already satisfied: werkzeug>=3.1.0 in /usr/local/lib/python3.11/dist-packages (from Flask) (3.1.3)\n",
            "Requirement already satisfied: PyYAML>=5.1 in /usr/local/lib/python3.11/dist-packages (from pyngrok) (6.0.2)\n",
            "Downloading zeep-4.3.1-py3-none-any.whl (101 kB)\n",
            "\u001b[2K   \u001b[90m━━━━━━━━━━━━━━━━━━━━━━━━━━━━━━━━━━━━━━━━\u001b[0m \u001b[32m101.7/101.7 kB\u001b[0m \u001b[31m2.8 MB/s\u001b[0m eta \u001b[36m0:00:00\u001b[0m\n",
            "\u001b[?25hDownloading pyngrok-7.2.11-py3-none-any.whl (25 kB)\n",
            "Downloading isodate-0.7.2-py3-none-any.whl (22 kB)\n",
            "Downloading requests_file-2.1.0-py2.py3-none-any.whl (4.2 kB)\n",
            "Installing collected packages: pyngrok, isodate, requests-file, zeep\n",
            "Successfully installed isodate-0.7.2 pyngrok-7.2.11 requests-file-2.1.0 zeep-4.3.1\n",
            "✅ All libraries installed successfully.\n"
          ]
        }
      ],
      "source": [
        "# Install all required libraries for the lab\n",
        "!pip install zeep requests Flask pyngrok\n",
        "print(\"✅ All libraries installed successfully.\")"
      ]
    },
    {
      "cell_type": "markdown",
      "source": [
        "## SOAP (Simple Object Access Protocol)\n",
        "\n",
        "SOAP is a strict, XML-based protocol. Its defining feature is the WSDL (Web Services Description Language), a machine-readable contract that describes every function the service offers, including the exact data structures for requests and responses. It's robust and platform-independent but often criticized for being verbose (\"heavy\")."
      ],
      "metadata": {
        "id": "52Ozs5IYI7ht"
      }
    },
    {
      "cell_type": "code",
      "source": [
        "# --- Interacting with a SOAP Service ---\n",
        "import zeep\n",
        "\n",
        "print(\"--- Consuming a SOAP Web Service ---\")\n",
        "\n",
        "wsdl_url = 'http://webservices.oorsprong.org/websamples.countryinfo/CountryInfoService.wso?WSDL'\n",
        "\n",
        "try:\n",
        "    # Create a SOAP client. `zeep` reads the WSDL to learn all available functions.\n",
        "    client = zeep.Client(wsdl=wsdl_url)\n",
        "    print(\"✅ Successfully connected to the Country Info SOAP service.\")\n",
        "\n",
        "    # Let's see what functions are available by inspecting the WSDL (optional)\n",
        "    client.wsdl.dump()\n",
        "\n",
        "    # function: 'CapitalCity'\n",
        "    # The WSDL tells us this function requires a parameter named 'sCountryISOCode'.\n",
        "    country_code_1 = \"NP\"\n",
        "    capital_city = client.service.CapitalCity(sCountryISOCode=country_code_1)\n",
        "    print(f\"\\nRequesting capital for country code: {country_code_1}\")\n",
        "    print(f\"↪️ SOAP Response: The capital of {country_code_1} is {capital_city}.\")\n",
        "\n",
        "    # function: 'CountryCurrency'\n",
        "    currency_info = client.service.CountryCurrency(sCountryISOCode=country_code_1)\n",
        "    print(f\"\\nRequesting currency for country code: {country_code_1}\")\n",
        "    # The response is a complex object, as defined by the WSDL\n",
        "    print(f\"↪️ SOAP Response: The currency for {country_code_1} is {currency_info.sName} ({currency_info.sISOCode}).\")\n",
        "\n",
        "except Exception as e:\n",
        "    print(f\"❌ An error occurred during the SOAP request: {e}\")"
      ],
      "metadata": {
        "colab": {
          "base_uri": "https://localhost:8080/",
          "height": 0
        },
        "id": "IbyzCBMjI0_6",
        "outputId": "9e21eae2-3029-4662-abcc-9cd3ecf4236f"
      },
      "execution_count": 3,
      "outputs": [
        {
          "output_type": "stream",
          "name": "stdout",
          "text": [
            "--- Part 1: Consuming a SOAP Web Service ---\n",
            "✅ Successfully connected to the Country Info SOAP service.\n",
            "\n",
            "Prefixes:\n",
            "     xsd: http://www.w3.org/2001/XMLSchema\n",
            "     ns0: http://www.oorsprong.org/websamples.countryinfo\n",
            "\n",
            "Global elements:\n",
            "     ns0:CapitalCity(sCountryISOCode: xsd:string)\n",
            "     ns0:CapitalCityResponse(CapitalCityResult: xsd:string)\n",
            "     ns0:CountriesUsingCurrency(sISOCurrencyCode: xsd:string)\n",
            "     ns0:CountriesUsingCurrencyResponse(CountriesUsingCurrencyResult: ns0:ArrayOftCountryCodeAndName)\n",
            "     ns0:CountryCurrency(sCountryISOCode: xsd:string)\n",
            "     ns0:CountryCurrencyResponse(CountryCurrencyResult: ns0:tCurrency)\n",
            "     ns0:CountryFlag(sCountryISOCode: xsd:string)\n",
            "     ns0:CountryFlagResponse(CountryFlagResult: xsd:string)\n",
            "     ns0:CountryISOCode(sCountryName: xsd:string)\n",
            "     ns0:CountryISOCodeResponse(CountryISOCodeResult: xsd:string)\n",
            "     ns0:CountryIntPhoneCode(sCountryISOCode: xsd:string)\n",
            "     ns0:CountryIntPhoneCodeResponse(CountryIntPhoneCodeResult: xsd:string)\n",
            "     ns0:CountryName(sCountryISOCode: xsd:string)\n",
            "     ns0:CountryNameResponse(CountryNameResult: xsd:string)\n",
            "     ns0:CurrencyName(sCurrencyISOCode: xsd:string)\n",
            "     ns0:CurrencyNameResponse(CurrencyNameResult: xsd:string)\n",
            "     ns0:FullCountryInfo(sCountryISOCode: xsd:string)\n",
            "     ns0:FullCountryInfoAllCountries()\n",
            "     ns0:FullCountryInfoAllCountriesResponse(FullCountryInfoAllCountriesResult: ns0:ArrayOftCountryInfo)\n",
            "     ns0:FullCountryInfoResponse(FullCountryInfoResult: ns0:tCountryInfo)\n",
            "     ns0:LanguageISOCode(sLanguageName: xsd:string)\n",
            "     ns0:LanguageISOCodeResponse(LanguageISOCodeResult: xsd:string)\n",
            "     ns0:LanguageName(sISOCode: xsd:string)\n",
            "     ns0:LanguageNameResponse(LanguageNameResult: xsd:string)\n",
            "     ns0:ListOfContinentsByCode()\n",
            "     ns0:ListOfContinentsByCodeResponse(ListOfContinentsByCodeResult: ns0:ArrayOftContinent)\n",
            "     ns0:ListOfContinentsByName()\n",
            "     ns0:ListOfContinentsByNameResponse(ListOfContinentsByNameResult: ns0:ArrayOftContinent)\n",
            "     ns0:ListOfCountryNamesByCode()\n",
            "     ns0:ListOfCountryNamesByCodeResponse(ListOfCountryNamesByCodeResult: ns0:ArrayOftCountryCodeAndName)\n",
            "     ns0:ListOfCountryNamesByName()\n",
            "     ns0:ListOfCountryNamesByNameResponse(ListOfCountryNamesByNameResult: ns0:ArrayOftCountryCodeAndName)\n",
            "     ns0:ListOfCountryNamesGroupedByContinent()\n",
            "     ns0:ListOfCountryNamesGroupedByContinentResponse(ListOfCountryNamesGroupedByContinentResult: ns0:ArrayOftCountryCodeAndNameGroupedByContinent)\n",
            "     ns0:ListOfCurrenciesByCode()\n",
            "     ns0:ListOfCurrenciesByCodeResponse(ListOfCurrenciesByCodeResult: ns0:ArrayOftCurrency)\n",
            "     ns0:ListOfCurrenciesByName()\n",
            "     ns0:ListOfCurrenciesByNameResponse(ListOfCurrenciesByNameResult: ns0:ArrayOftCurrency)\n",
            "     ns0:ListOfLanguagesByCode()\n",
            "     ns0:ListOfLanguagesByCodeResponse(ListOfLanguagesByCodeResult: ns0:ArrayOftLanguage)\n",
            "     ns0:ListOfLanguagesByName()\n",
            "     ns0:ListOfLanguagesByNameResponse(ListOfLanguagesByNameResult: ns0:ArrayOftLanguage)\n",
            "     \n",
            "\n",
            "Global types:\n",
            "     xsd:anyType\n",
            "     ns0:ArrayOftContinent(tContinent: ns0:tContinent[])\n",
            "     ns0:ArrayOftCountryCodeAndName(tCountryCodeAndName: ns0:tCountryCodeAndName[])\n",
            "     ns0:ArrayOftCountryCodeAndNameGroupedByContinent(tCountryCodeAndNameGroupedByContinent: ns0:tCountryCodeAndNameGroupedByContinent[])\n",
            "     ns0:ArrayOftCountryInfo(tCountryInfo: ns0:tCountryInfo[])\n",
            "     ns0:ArrayOftCurrency(tCurrency: ns0:tCurrency[])\n",
            "     ns0:ArrayOftLanguage(tLanguage: ns0:tLanguage[])\n",
            "     ns0:tContinent(sCode: xsd:string, sName: xsd:string)\n",
            "     ns0:tCountryCodeAndName(sISOCode: xsd:string, sName: xsd:string)\n",
            "     ns0:tCountryCodeAndNameGroupedByContinent(Continent: ns0:tContinent, CountryCodeAndNames: ns0:ArrayOftCountryCodeAndName)\n",
            "     ns0:tCountryInfo(sISOCode: xsd:string, sName: xsd:string, sCapitalCity: xsd:string, sPhoneCode: xsd:string, sContinentCode: xsd:string, sCurrencyISOCode: xsd:string, sCountryFlag: xsd:string, Languages: ns0:ArrayOftLanguage)\n",
            "     ns0:tCurrency(sISOCode: xsd:string, sName: xsd:string)\n",
            "     ns0:tLanguage(sISOCode: xsd:string, sName: xsd:string)\n",
            "     xsd:ENTITIES\n",
            "     xsd:ENTITY\n",
            "     xsd:ID\n",
            "     xsd:IDREF\n",
            "     xsd:IDREFS\n",
            "     xsd:NCName\n",
            "     xsd:NMTOKEN\n",
            "     xsd:NMTOKENS\n",
            "     xsd:NOTATION\n",
            "     xsd:Name\n",
            "     xsd:QName\n",
            "     xsd:anySimpleType\n",
            "     xsd:anyURI\n",
            "     xsd:base64Binary\n",
            "     xsd:boolean\n",
            "     xsd:byte\n",
            "     xsd:date\n",
            "     xsd:dateTime\n",
            "     xsd:decimal\n",
            "     xsd:double\n",
            "     xsd:duration\n",
            "     xsd:float\n",
            "     xsd:gDay\n",
            "     xsd:gMonth\n",
            "     xsd:gMonthDay\n",
            "     xsd:gYear\n",
            "     xsd:gYearMonth\n",
            "     xsd:hexBinary\n",
            "     xsd:int\n",
            "     xsd:integer\n",
            "     xsd:language\n",
            "     xsd:long\n",
            "     xsd:negativeInteger\n",
            "     xsd:nonNegativeInteger\n",
            "     xsd:nonPositiveInteger\n",
            "     xsd:normalizedString\n",
            "     xsd:positiveInteger\n",
            "     xsd:short\n",
            "     xsd:string\n",
            "     xsd:time\n",
            "     xsd:token\n",
            "     xsd:unsignedByte\n",
            "     xsd:unsignedInt\n",
            "     xsd:unsignedLong\n",
            "     xsd:unsignedShort\n",
            "\n",
            "Bindings:\n",
            "     Soap11Binding: {http://www.oorsprong.org/websamples.countryinfo}CountryInfoServiceSoapBinding\n",
            "     Soap12Binding: {http://www.oorsprong.org/websamples.countryinfo}CountryInfoServiceSoapBinding12\n",
            "\n",
            "Service: CountryInfoService\n",
            "     Port: CountryInfoServiceSoap (Soap11Binding: {http://www.oorsprong.org/websamples.countryinfo}CountryInfoServiceSoapBinding)\n",
            "         Operations:\n",
            "            CapitalCity(sCountryISOCode: xsd:string) -> CapitalCityResult: xsd:string\n",
            "            CountriesUsingCurrency(sISOCurrencyCode: xsd:string) -> CountriesUsingCurrencyResult: ns0:ArrayOftCountryCodeAndName\n",
            "            CountryCurrency(sCountryISOCode: xsd:string) -> CountryCurrencyResult: ns0:tCurrency\n",
            "            CountryFlag(sCountryISOCode: xsd:string) -> CountryFlagResult: xsd:string\n",
            "            CountryISOCode(sCountryName: xsd:string) -> CountryISOCodeResult: xsd:string\n",
            "            CountryIntPhoneCode(sCountryISOCode: xsd:string) -> CountryIntPhoneCodeResult: xsd:string\n",
            "            CountryName(sCountryISOCode: xsd:string) -> CountryNameResult: xsd:string\n",
            "            CurrencyName(sCurrencyISOCode: xsd:string) -> CurrencyNameResult: xsd:string\n",
            "            FullCountryInfo(sCountryISOCode: xsd:string) -> FullCountryInfoResult: ns0:tCountryInfo\n",
            "            FullCountryInfoAllCountries() -> FullCountryInfoAllCountriesResult: ns0:ArrayOftCountryInfo\n",
            "            LanguageISOCode(sLanguageName: xsd:string) -> LanguageISOCodeResult: xsd:string\n",
            "            LanguageName(sISOCode: xsd:string) -> LanguageNameResult: xsd:string\n",
            "            ListOfContinentsByCode() -> ListOfContinentsByCodeResult: ns0:ArrayOftContinent\n",
            "            ListOfContinentsByName() -> ListOfContinentsByNameResult: ns0:ArrayOftContinent\n",
            "            ListOfCountryNamesByCode() -> ListOfCountryNamesByCodeResult: ns0:ArrayOftCountryCodeAndName\n",
            "            ListOfCountryNamesByName() -> ListOfCountryNamesByNameResult: ns0:ArrayOftCountryCodeAndName\n",
            "            ListOfCountryNamesGroupedByContinent() -> ListOfCountryNamesGroupedByContinentResult: ns0:ArrayOftCountryCodeAndNameGroupedByContinent\n",
            "            ListOfCurrenciesByCode() -> ListOfCurrenciesByCodeResult: ns0:ArrayOftCurrency\n",
            "            ListOfCurrenciesByName() -> ListOfCurrenciesByNameResult: ns0:ArrayOftCurrency\n",
            "            ListOfLanguagesByCode() -> ListOfLanguagesByCodeResult: ns0:ArrayOftLanguage\n",
            "            ListOfLanguagesByName() -> ListOfLanguagesByNameResult: ns0:ArrayOftLanguage\n",
            "\n",
            "     Port: CountryInfoServiceSoap12 (Soap12Binding: {http://www.oorsprong.org/websamples.countryinfo}CountryInfoServiceSoapBinding12)\n",
            "         Operations:\n",
            "            CapitalCity(sCountryISOCode: xsd:string) -> CapitalCityResult: xsd:string\n",
            "            CountriesUsingCurrency(sISOCurrencyCode: xsd:string) -> CountriesUsingCurrencyResult: ns0:ArrayOftCountryCodeAndName\n",
            "            CountryCurrency(sCountryISOCode: xsd:string) -> CountryCurrencyResult: ns0:tCurrency\n",
            "            CountryFlag(sCountryISOCode: xsd:string) -> CountryFlagResult: xsd:string\n",
            "            CountryISOCode(sCountryName: xsd:string) -> CountryISOCodeResult: xsd:string\n",
            "            CountryIntPhoneCode(sCountryISOCode: xsd:string) -> CountryIntPhoneCodeResult: xsd:string\n",
            "            CountryName(sCountryISOCode: xsd:string) -> CountryNameResult: xsd:string\n",
            "            CurrencyName(sCurrencyISOCode: xsd:string) -> CurrencyNameResult: xsd:string\n",
            "            FullCountryInfo(sCountryISOCode: xsd:string) -> FullCountryInfoResult: ns0:tCountryInfo\n",
            "            FullCountryInfoAllCountries() -> FullCountryInfoAllCountriesResult: ns0:ArrayOftCountryInfo\n",
            "            LanguageISOCode(sLanguageName: xsd:string) -> LanguageISOCodeResult: xsd:string\n",
            "            LanguageName(sISOCode: xsd:string) -> LanguageNameResult: xsd:string\n",
            "            ListOfContinentsByCode() -> ListOfContinentsByCodeResult: ns0:ArrayOftContinent\n",
            "            ListOfContinentsByName() -> ListOfContinentsByNameResult: ns0:ArrayOftContinent\n",
            "            ListOfCountryNamesByCode() -> ListOfCountryNamesByCodeResult: ns0:ArrayOftCountryCodeAndName\n",
            "            ListOfCountryNamesByName() -> ListOfCountryNamesByNameResult: ns0:ArrayOftCountryCodeAndName\n",
            "            ListOfCountryNamesGroupedByContinent() -> ListOfCountryNamesGroupedByContinentResult: ns0:ArrayOftCountryCodeAndNameGroupedByContinent\n",
            "            ListOfCurrenciesByCode() -> ListOfCurrenciesByCodeResult: ns0:ArrayOftCurrency\n",
            "            ListOfCurrenciesByName() -> ListOfCurrenciesByNameResult: ns0:ArrayOftCurrency\n",
            "            ListOfLanguagesByCode() -> ListOfLanguagesByCodeResult: ns0:ArrayOftLanguage\n",
            "            ListOfLanguagesByName() -> ListOfLanguagesByNameResult: ns0:ArrayOftLanguage\n",
            "\n",
            "\n",
            "Requesting capital for country code: NP\n",
            "↪️ SOAP Response: The capital of NP is Katmandu.\n",
            "\n",
            "Requesting currency for country code: NP\n",
            "↪️ SOAP Response: The currency for NP is Nepal Rupees (NPR).\n"
          ]
        }
      ]
    },
    {
      "cell_type": "markdown",
      "source": [
        "## REST (Representational State Transfer)\n",
        "REST is an architectural style, not a strict protocol. It leverages the existing, well-understood HTTP protocol. It's resource-oriented, meaning you perform actions (GET, POST, PUT, DELETE) on \"things\" (/users, /products/123). It's stateless and typically uses lightweight JSON for data exchange, making it the dominant choice for modern web APIs.\n",
        "\n",
        "\n",
        "\n",
        "> **Our Dummy Service:** We will use ReqRes.in, a fantastic service that allows you to simulate all REST operations.\n",
        "\n",
        "\n"
      ],
      "metadata": {
        "id": "rUHXQoQ_Jh6c"
      }
    },
    {
      "cell_type": "code",
      "source": [
        "# --- Interacting with a RESTful API ---\n",
        "import requests\n",
        "import json\n",
        "\n",
        "print(\"--- Consuming a RESTful API ---\")\n",
        "BASE_URL = 'https://reqres.in/api'\n",
        "\n",
        "# 1. GET (List): Fetch a list of users from page 2\n",
        "print(\"\\n--- 1. GET /users?page=2 (Fetch a list) ---\")\n",
        "response = requests.get(f'{BASE_URL}/users?page=2')\n",
        "print(f\"Status Code: {response.status_code}\")\n",
        "print(json.dumps(response.json(), indent=2))\n",
        "\n",
        "# 2. GET (Single): Fetch a single user with ID 2\n",
        "print(\"\\n--- 2. GET /users/2 (Fetch a single resource) ---\")\n",
        "response = requests.get(f'{BASE_URL}/users/2')\n",
        "print(f\"Status Code: {response.status_code}\")\n",
        "print(json.dumps(response.json(), indent=2))\n",
        "\n",
        "# 3. POST: Create a new user\n",
        "print(\"\\n--- 3. POST /users (Create a resource) ---\")\n",
        "new_user_payload = {\n",
        "    \"name\": \"Sundeep\",\n",
        "    \"job\": \"Student\"\n",
        "}\n",
        "response = requests.post(f'{BASE_URL}/users', json=new_user_payload)\n",
        "print(f\"Status Code: {response.status_code}\")\n",
        "print(\"Response shows the created user and an ID:\")\n",
        "print(json.dumps(response.json(), indent=2))\n",
        "\n",
        "# 4. PUT: Update a user's information\n",
        "print(\"\\n--- 4. PUT /users/2 (Update a resource) ---\")\n",
        "updated_user_payload = {\n",
        "    \"name\": \"Sundeep\",\n",
        "    \"job\": \"KU Student\"\n",
        "}\n",
        "response = requests.put(f'{BASE_URL}/users/2', json=updated_user_payload)\n",
        "print(f\"Status Code: {response.status_code}\")\n",
        "print(\"Response shows the updated information:\")\n",
        "print(json.dumps(response.json(), indent=2))\n",
        "\n",
        "# 5. DELETE: Remove a user\n",
        "print(\"\\n--- 5. DELETE /users/2 (Delete a resource) ---\")\n",
        "response = requests.delete(f'{BASE_URL}/users/2')\n",
        "print(f\"Status Code: {response.status_code} (204 No Content is a success!)\")\n",
        "print(\"Response body is empty, as expected for a successful DELETE.\")"
      ],
      "metadata": {
        "colab": {
          "base_uri": "https://localhost:8080/",
          "height": 0
        },
        "id": "NbV5WTImJX0A",
        "outputId": "0de6e652-6877-4952-e4a0-a636e64d2f4b"
      },
      "execution_count": 5,
      "outputs": [
        {
          "output_type": "stream",
          "name": "stdout",
          "text": [
            "--- Part 2: Consuming a RESTful API ---\n",
            "\n",
            "--- 1. GET /users?page=2 (Fetch a list) ---\n",
            "Status Code: 200\n",
            "{\n",
            "  \"page\": 2,\n",
            "  \"per_page\": 6,\n",
            "  \"total\": 12,\n",
            "  \"total_pages\": 2,\n",
            "  \"data\": [\n",
            "    {\n",
            "      \"id\": 7,\n",
            "      \"email\": \"michael.lawson@reqres.in\",\n",
            "      \"first_name\": \"Michael\",\n",
            "      \"last_name\": \"Lawson\",\n",
            "      \"avatar\": \"https://reqres.in/img/faces/7-image.jpg\"\n",
            "    },\n",
            "    {\n",
            "      \"id\": 8,\n",
            "      \"email\": \"lindsay.ferguson@reqres.in\",\n",
            "      \"first_name\": \"Lindsay\",\n",
            "      \"last_name\": \"Ferguson\",\n",
            "      \"avatar\": \"https://reqres.in/img/faces/8-image.jpg\"\n",
            "    },\n",
            "    {\n",
            "      \"id\": 9,\n",
            "      \"email\": \"tobias.funke@reqres.in\",\n",
            "      \"first_name\": \"Tobias\",\n",
            "      \"last_name\": \"Funke\",\n",
            "      \"avatar\": \"https://reqres.in/img/faces/9-image.jpg\"\n",
            "    },\n",
            "    {\n",
            "      \"id\": 10,\n",
            "      \"email\": \"byron.fields@reqres.in\",\n",
            "      \"first_name\": \"Byron\",\n",
            "      \"last_name\": \"Fields\",\n",
            "      \"avatar\": \"https://reqres.in/img/faces/10-image.jpg\"\n",
            "    },\n",
            "    {\n",
            "      \"id\": 11,\n",
            "      \"email\": \"george.edwards@reqres.in\",\n",
            "      \"first_name\": \"George\",\n",
            "      \"last_name\": \"Edwards\",\n",
            "      \"avatar\": \"https://reqres.in/img/faces/11-image.jpg\"\n",
            "    },\n",
            "    {\n",
            "      \"id\": 12,\n",
            "      \"email\": \"rachel.howell@reqres.in\",\n",
            "      \"first_name\": \"Rachel\",\n",
            "      \"last_name\": \"Howell\",\n",
            "      \"avatar\": \"https://reqres.in/img/faces/12-image.jpg\"\n",
            "    }\n",
            "  ],\n",
            "  \"support\": {\n",
            "    \"url\": \"https://contentcaddy.io?utm_source=reqres&utm_medium=json&utm_campaign=referral\",\n",
            "    \"text\": \"Tired of writing endless social media content? Let Content Caddy generate it for you.\"\n",
            "  }\n",
            "}\n",
            "\n",
            "--- 2. GET /users/2 (Fetch a single resource) ---\n",
            "Status Code: 200\n",
            "{\n",
            "  \"data\": {\n",
            "    \"id\": 2,\n",
            "    \"email\": \"janet.weaver@reqres.in\",\n",
            "    \"first_name\": \"Janet\",\n",
            "    \"last_name\": \"Weaver\",\n",
            "    \"avatar\": \"https://reqres.in/img/faces/2-image.jpg\"\n",
            "  },\n",
            "  \"support\": {\n",
            "    \"url\": \"https://contentcaddy.io?utm_source=reqres&utm_medium=json&utm_campaign=referral\",\n",
            "    \"text\": \"Tired of writing endless social media content? Let Content Caddy generate it for you.\"\n",
            "  }\n",
            "}\n",
            "\n",
            "--- 3. POST /users (Create a resource) ---\n",
            "Status Code: 401\n",
            "Response shows the created user and an ID:\n",
            "{\n",
            "  \"error\": \"Missing API key.\",\n",
            "  \"how_to_get_one\": \"https://reqres.in/signup\"\n",
            "}\n",
            "\n",
            "--- 4. PUT /users/2 (Update a resource) ---\n",
            "Status Code: 401\n",
            "Response shows the updated information:\n",
            "{\n",
            "  \"error\": \"Missing API key.\",\n",
            "  \"how_to_get_one\": \"https://reqres.in/signup\"\n",
            "}\n",
            "\n",
            "--- 5. DELETE /users/2 (Delete a resource) ---\n",
            "Status Code: 401 (204 No Content is a success!)\n",
            "Response body is empty, as expected for a successful DELETE.\n"
          ]
        }
      ]
    },
    {
      "cell_type": "markdown",
      "source": [
        "## GraphQL\n",
        "\n",
        "GraphQL is a query language for APIs. It was developed by Facebook to solve problems with REST, namely over-fetching (getting more data than you need) and under-fetching (having to make multiple API calls to get all the data you need). With GraphQL, the client specifies exactly the fields it wants in a single request, and the server returns a JSON object matching that exact shape.\n"
      ],
      "metadata": {
        "id": "1g-VHtM1KWV3"
      }
    },
    {
      "cell_type": "code",
      "source": [
        "import requests\n",
        "import json\n",
        "\n",
        "print(\"--- Consuming a GraphQL API ---\")\n",
        "GRAPHQL_URL = 'https://rickandmortyapi.com/graphql'\n",
        "\n",
        "# 1. Define the GraphQL query.\n",
        "# Notice how we ask for specific fields: name, status, and only the name of the character's origin and location.\n",
        "# This prevents receiving all the other data associated with a character.\n",
        "graphql_query = \"\"\"\n",
        "query {\n",
        "  character(id: 1) {\n",
        "    id\n",
        "    name\n",
        "    status\n",
        "    species\n",
        "    origin {\n",
        "      name\n",
        "    }\n",
        "    location {\n",
        "      name\n",
        "    }\n",
        "  }\n",
        "}\n",
        "\"\"\"\n",
        "\n",
        "# 2. A GraphQL request is just an HTTP POST request.\n",
        "# The query is sent in the JSON body.\n",
        "print(\"Requesting specific fields for character with ID 1...\")\n",
        "response = requests.post(GRAPHQL_URL, json={'query': graphql_query})\n",
        "\n",
        "# 3. Print the perfectly-shaped response\n",
        "print(f\"\\nStatus Code: {response.status_code}\")\n",
        "print(\"Response JSON matches our query structure exactly:\")\n",
        "print(json.dumps(response.json(), indent=2))"
      ],
      "metadata": {
        "colab": {
          "base_uri": "https://localhost:8080/",
          "height": 0
        },
        "id": "NL_lLsxnJxB5",
        "outputId": "a8e70321-3ac7-4591-c1d7-fec2d6449c8c"
      },
      "execution_count": 6,
      "outputs": [
        {
          "output_type": "stream",
          "name": "stdout",
          "text": [
            "--- Part 3: Consuming a GraphQL API ---\n",
            "Requesting specific fields for character with ID 1...\n",
            "\n",
            "Status Code: 200\n",
            "Response JSON matches our query structure exactly:\n",
            "{\n",
            "  \"data\": {\n",
            "    \"character\": {\n",
            "      \"id\": \"1\",\n",
            "      \"name\": \"Rick Sanchez\",\n",
            "      \"status\": \"Alive\",\n",
            "      \"species\": \"Human\",\n",
            "      \"origin\": {\n",
            "        \"name\": \"Earth (C-137)\"\n",
            "      },\n",
            "      \"location\": {\n",
            "        \"name\": \"Citadel of Ricks\"\n",
            "      }\n",
            "    }\n",
            "  }\n",
            "}\n"
          ]
        }
      ]
    },
    {
      "cell_type": "markdown",
      "source": [
        "## gRPC\n",
        "\n",
        "gRPC (Google Remote Procedure Call) is a modern, high-performance framework. Instead of text-based JSON/XML, it uses Protocol Buffers (protobuf), a binary format that is much smaller and faster to parse. It's built on HTTP/2, enabling advanced capabilities like bi-directional streaming. The \"contract\" is defined in a .proto file, which is used to auto-generate client and server code.\n",
        "\n",
        "Use Case: Primarily for low-latency, high-throughput communication between backend microservices. Not typically used for public-facing web/mobile APIs.\n",
        "\n",
        "Demonstration: Finding a public gRPC endpoint to call is difficult, as it's meant for internal use. Instead, we'll demonstrate the concept by showing what the contract and client code look like."
      ],
      "metadata": {
        "id": "Lda3LoDUKwUk"
      }
    },
    {
      "cell_type": "markdown",
      "source": [
        "### A gRPC interaction has two main parts:\n",
        "#### 1. The Contract (.proto file):\n",
        "\n",
        "\n",
        "\n",
        "\n",
        "\n"
      ],
      "metadata": {
        "id": "_2Mh12aYLClz"
      }
    },
    {
      "cell_type": "code",
      "source": [
        "# // Specifies the syntax version.\n",
        "# syntax = \"proto3\";\n",
        "\n",
        "# // Defines a service named \"Greeter\".\n",
        "# service Greeter {\n",
        "#   // Defines a function (RPC) named \"SayHello\".\n",
        "#   // It takes a \"HelloRequest\" message and returns a \"HelloReply\" message.\n",
        "#   rpc SayHello (HelloRequest) returns (HelloReply) {}\n",
        "# }\n",
        "\n",
        "# // Defines the structure of the request message.\n",
        "# message HelloRequest {\n",
        "#   string name = 1; // a field named \"name\" of type string, with a position of 1.\n",
        "# }\n",
        "\n",
        "# // Defines the structure of the reply message.\n",
        "# message HelloReply {\n",
        "#   string message = 1;\n",
        "# }"
      ],
      "metadata": {
        "id": "Gn5cdYQ6Khzd"
      },
      "execution_count": null,
      "outputs": []
    },
    {
      "cell_type": "markdown",
      "source": [
        "#### The Client Code (Python Example):"
      ],
      "metadata": {
        "id": "-5TZgrcMM5_9"
      }
    },
    {
      "cell_type": "code",
      "source": [
        "# import grpc\n",
        "# import greeter_pb2  # <-- Generated from proto file\n",
        "# import greeter_pb2_grpc # <-- Generated from proto file\n",
        "\n",
        "# def run():\n",
        "#   # 1. Create a secure connection (channel) to the server.\n",
        "#   with grpc.insecure_channel('localhost:50051') as channel:\n",
        "#     # 2. Create a \"stub\" (client) from the channel.\n",
        "#     stub = greeter_pb2_grpc.GreeterStub(channel)\n",
        "\n",
        "#     # 3. Call the RPC function, passing in the request message object.\n",
        "#     response = stub.SayHello(greeter_pb2.HelloRequest(name='World'))\n",
        "\n",
        "#     print(\"Greeter client received: \" + response.message)"
      ],
      "metadata": {
        "id": "P9P-GsK9M-OZ"
      },
      "execution_count": null,
      "outputs": []
    },
    {
      "cell_type": "markdown",
      "source": [
        "## Our Own REST API"
      ],
      "metadata": {
        "id": "qzhHjBwQOPbT"
      }
    },
    {
      "cell_type": "markdown",
      "source": [
        "\n",
        "\n",
        "> Here using the https://ngrok.com get your auth key and save it in the key icon where name is NGORK and value is your own auth key\n",
        "\n"
      ],
      "metadata": {
        "id": "K274dh68Re0P"
      }
    },
    {
      "cell_type": "code",
      "source": [
        "import os\n",
        "\n",
        "from google.colab import userdata\n",
        "from pyngrok import conf\n",
        "os.environ[\"NGROK\"] = userdata.get(\"NGORK\")\n",
        "conf.get_default().auth_token = os.environ[\"NGROK\"]"
      ],
      "metadata": {
        "colab": {
          "base_uri": "https://localhost:8080/",
          "height": 0
        },
        "id": "lB3yOIZqP4xX",
        "outputId": "d50b5a84-0bda-43ac-8eb2-dc11e5f4fc15"
      },
      "execution_count": 14,
      "outputs": [
        {
          "output_type": "stream",
          "name": "stderr",
          "text": [
            "ERROR:root:Unexpected exception finding object shape\n",
            "Traceback (most recent call last):\n",
            "  File \"/usr/local/lib/python3.11/dist-packages/google/colab/_debugpy_repr.py\", line 54, in get_shape\n",
            "    shape = getattr(obj, 'shape', None)\n",
            "            ^^^^^^^^^^^^^^^^^^^^^^^^^^^\n",
            "  File \"/usr/local/lib/python3.11/dist-packages/werkzeug/local.py\", line 318, in __get__\n",
            "    obj = instance._get_current_object()\n",
            "          ^^^^^^^^^^^^^^^^^^^^^^^^^^^^^^\n",
            "  File \"/usr/local/lib/python3.11/dist-packages/werkzeug/local.py\", line 519, in _get_current_object\n",
            "    raise RuntimeError(unbound_message) from None\n",
            "RuntimeError: Working outside of request context.\n",
            "\n",
            "This typically means that you attempted to use functionality that needed\n",
            "an active HTTP request. Consult the documentation on testing for\n",
            "information about how to avoid this problem.\n"
          ]
        }
      ]
    },
    {
      "cell_type": "code",
      "source": [
        "from flask import Flask, jsonify, request\n",
        "import threading\n",
        "import time\n",
        "import requests\n",
        "import json\n",
        "import copy\n",
        "\n",
        "# --- Define the Flask App  ---\n",
        "app = Flask(__name__)\n",
        "tasks_db = [\n",
        "    {'id': 1, 'title': 'Learn web services', 'done': True},\n",
        "    {'id': 2, 'title': 'Test with localhost', 'done': False},\n",
        "]\n",
        "\n",
        "@app.route(\"/\")\n",
        "def index():\n",
        "    return \"<h1>API is running on this server's localhost!</h1>\"\n",
        "\n",
        "@app.route('/tasks', methods=['GET'])\n",
        "def get_tasks():\n",
        "    return jsonify({'tasks': tasks_db})\n",
        "\n",
        "@app.route('/tasks', methods=['POST'])\n",
        "def create_task():\n",
        "    if not request.json or 'title' not in request.json:\n",
        "        return jsonify({'error': 'Missing title'}), 400\n",
        "    new_task = {\n",
        "        'id': tasks_db[-1]['id'] + 1 if tasks_db else 1,\n",
        "        'title': request.json['title'],\n",
        "        'done': False\n",
        "    }\n",
        "    tasks_db.append(new_task)\n",
        "    return jsonify({'task': new_task}), 201\n",
        "\n",
        "# --- Function to run the app in a thread ---\n",
        "def run_app():\n",
        "    # Use host='0.0.0.0' to make it accessible within the container,and a specific port.\n",
        "    app.run(host='0.0.0.0', port=5002)\n",
        "\n",
        "# --- Start the Flask app in a background thread ---\n",
        "# This ensures the server process doesn't block the notebook execution. this is not required for the just single python app with flask\n",
        "server_thread = threading.Thread(target=run_app)\n",
        "server_thread.daemon = True\n",
        "server_thread.start()\n",
        "\n",
        "print(\"🚀 Flask app has been started in the background on port 5002.\")\n",
        "print(\"It is running on the Colab server's localhost, NOT your local machine.\")\n",
        "# Give the server a moment to start up\n",
        "time.sleep(2)"
      ],
      "metadata": {
        "colab": {
          "base_uri": "https://localhost:8080/",
          "height": 0
        },
        "id": "jYiZovk3OAaJ",
        "outputId": "5e8985da-d119-481f-df1b-e94100b517cf"
      },
      "execution_count": 19,
      "outputs": [
        {
          "output_type": "stream",
          "name": "stdout",
          "text": [
            "🚀 Flask app has been started in the background on port 5002.\n",
            "It is running on the Colab server's localhost, NOT your local machine.\n",
            " * Serving Flask app '__main__'\n",
            " * Debug mode: off\n"
          ]
        },
        {
          "output_type": "stream",
          "name": "stderr",
          "text": [
            "Address already in use\n",
            "Port 5002 is in use by another program. Either identify and stop that program, or start the server with a different port.\n",
            "ERROR:root:Unexpected exception finding object shape\n",
            "Traceback (most recent call last):\n",
            "  File \"/usr/local/lib/python3.11/dist-packages/google/colab/_debugpy_repr.py\", line 54, in get_shape\n",
            "    shape = getattr(obj, 'shape', None)\n",
            "            ^^^^^^^^^^^^^^^^^^^^^^^^^^^\n",
            "  File \"/usr/local/lib/python3.11/dist-packages/werkzeug/local.py\", line 318, in __get__\n",
            "    obj = instance._get_current_object()\n",
            "          ^^^^^^^^^^^^^^^^^^^^^^^^^^^^^^\n",
            "  File \"/usr/local/lib/python3.11/dist-packages/werkzeug/local.py\", line 519, in _get_current_object\n",
            "    raise RuntimeError(unbound_message) from None\n",
            "RuntimeError: Working outside of request context.\n",
            "\n",
            "This typically means that you attempted to use functionality that needed\n",
            "an active HTTP request. Consult the documentation on testing for\n",
            "information about how to avoid this problem.\n"
          ]
        }
      ]
    },
    {
      "cell_type": "code",
      "source": [
        "# The base URL for our background server\n",
        "# We use http://127.0.0.1 which is the IP address for localhost you can use ngork url if you want to work with this url in your own local computer\n",
        "BASE_URL = \"http://127.0.0.1:5002\"\n",
        "\n",
        "print(f\"--- Testing the background server at {BASE_URL} ---\")\n",
        "\n",
        "try:\n",
        "    # --- 1. Test GET /tasks ---\n",
        "    print(\"\\n--- 1. Testing GET /tasks ---\")\n",
        "    response = requests.get(f\"{BASE_URL}/tasks\")\n",
        "\n",
        "    # raise_for_status() will raise an exception for bad status codes (4xx or 5xx)\n",
        "    response.raise_for_status()\n",
        "\n",
        "    print(\"✅ Success! Response:\")\n",
        "    print(json.dumps(response.json(), indent=2))\n",
        "\n",
        "    # --- 2. Test POST /tasks ---\n",
        "    print(\"\\n--- 2. Testing POST /tasks ---\")\n",
        "    new_task_payload = {'title': 'Test from a different cell'}\n",
        "    post_response = requests.post(f\"{BASE_URL}/tasks\", json=new_task_payload)\n",
        "    post_response.raise_for_status()\n",
        "\n",
        "    print(\"✅ Success! Server responded:\")\n",
        "    print(json.dumps(post_response.json(), indent=2))\n",
        "\n",
        "except requests.exceptions.ConnectionError:\n",
        "    print(\"❌ Connection Error: Could not connect to the server.\")\n",
        "    print(\"   Please make sure the previous cell was run successfully and the server is running.\")\n",
        "except requests.exceptions.HTTPError as e:\n",
        "    print(f\"❌ HTTP Error: The server responded with a status code {e.response.status_code}\")"
      ],
      "metadata": {
        "colab": {
          "base_uri": "https://localhost:8080/",
          "height": 0
        },
        "id": "S-NZLR6SNzKe",
        "outputId": "7c8d9a7d-5155-42cd-8e5d-599a77bfe78a"
      },
      "execution_count": 20,
      "outputs": [
        {
          "output_type": "stream",
          "name": "stderr",
          "text": [
            "INFO:werkzeug:127.0.0.1 - - [02/Jul/2025 08:32:36] \"GET /tasks HTTP/1.1\" 200 -\n",
            "INFO:werkzeug:127.0.0.1 - - [02/Jul/2025 08:32:36] \"\u001b[35m\u001b[1mPOST /tasks HTTP/1.1\u001b[0m\" 201 -\n"
          ]
        },
        {
          "output_type": "stream",
          "name": "stdout",
          "text": [
            "--- Testing the background server at http://127.0.0.1:5002 ---\n",
            "\n",
            "--- 1. Testing GET /tasks ---\n",
            "✅ Success! Response:\n",
            "{\n",
            "  \"tasks\": [\n",
            "    {\n",
            "      \"done\": true,\n",
            "      \"id\": 1,\n",
            "      \"title\": \"Learn web services\"\n",
            "    },\n",
            "    {\n",
            "      \"done\": false,\n",
            "      \"id\": 2,\n",
            "      \"title\": \"Test with localhost\"\n",
            "    }\n",
            "  ]\n",
            "}\n",
            "\n",
            "--- 2. Testing POST /tasks ---\n",
            "✅ Success! Server responded:\n",
            "{\n",
            "  \"task\": {\n",
            "    \"description\": \"\",\n",
            "    \"done\": false,\n",
            "    \"id\": 3,\n",
            "    \"title\": \"Test from a different cell\"\n",
            "  }\n",
            "}\n"
          ]
        }
      ]
    },
    {
      "cell_type": "markdown",
      "source": [
        "We have now completed a comprehensive tour of the most important web service communication methods used in the industry. We've seen the formal structure of SOAP, the flexibility of REST, the efficiency of GraphQL, the high performance of gRPC, and you've built your own service from scratch. This knowledge is fundamental to building and integrating modern software applications."
      ],
      "metadata": {
        "id": "9vb3E2pDRX_Q"
      }
    },
    {
      "cell_type": "code",
      "source": [],
      "metadata": {
        "id": "uKC59yAaOjIx"
      },
      "execution_count": null,
      "outputs": []
    }
  ]
}